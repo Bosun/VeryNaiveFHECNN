{
 "cells": [
  {
   "cell_type": "code",
   "execution_count": 7,
   "id": "95b7314b-a912-458c-8e56-e05e0f97a937",
   "metadata": {
    "tags": []
   },
   "outputs": [
    {
     "name": "stdout",
     "output_type": "stream",
     "text": [
      "WARNING:tensorflow:6 out of the last 6 calls to <function Model.make_predict_function.<locals>.predict_function at 0x7fc960dafdc0> triggered tf.function retracing. Tracing is expensive and the excessive number of tracings could be due to (1) creating @tf.function repeatedly in a loop, (2) passing tensors with different shapes, (3) passing Python objects instead of tensors. For (1), please define your @tf.function outside of the loop. For (2), @tf.function has reduce_retracing=True option that can avoid unnecessary retracing. For (3), please refer to https://www.tensorflow.org/guide/function#controlling_retracing and https://www.tensorflow.org/api_docs/python/tf/function for  more details.\n",
      "1/1 [==============================] - 0s 83ms/step\n",
      "预测的数字是: 4\n",
      "每个数字的概率分布是: [0.07957326 0.02715648 0.09182026 0.08513818 0.3635731  0.04377018\n",
      " 0.06484818 0.02477644 0.11891462 0.10042935]\n"
     ]
    }
   ],
   "source": [
    "import tensorflow as tf\n",
    "import numpy as np\n",
    "\n",
    "# 加载预训练的 MNIST 模型 (这里加载的是一个简单的 Sequential 模型作为示例)\n",
    "# 实际上，一个完整训练好的模型可能更复杂，需要从文件加载\n",
    "model = tf.keras.models.Sequential([\n",
    "    tf.keras.layers.Flatten(input_shape=(28, 28)),\n",
    "    tf.keras.layers.Dense(128, activation='relu'),\n",
    "    tf.keras.layers.Dropout(0.2),\n",
    "    tf.keras.layers.Dense(10, activation='softmax')\n",
    "])\n",
    "\n",
    "# 为了演示，我们创建一个随机的“虚拟”手写数字图像数据\n",
    "# 实际应用中，这会是从图像中提取的像素数据\n",
    "random_image = np.random.rand(1, 28, 28)\n",
    "\n",
    "# 对虚拟数据进行预测\n",
    "predictions = model.predict(random_image)\n",
    "\n",
    "# 获取预测结果的概率分布\n",
    "probability_distribution = predictions[0]\n",
    "\n",
    "# 获取预测的数字 (概率最高的那个)\n",
    "predicted_digit = np.argmax(probability_distribution)\n",
    "\n",
    "# 打印预测结果\n",
    "print(f\"预测的数字是: {predicted_digit}\")\n",
    "print(f\"每个数字的概率分布是: {probability_distribution}\")"
   ]
  }
 ],
 "metadata": {
  "kernelspec": {
   "display_name": "Python 3 (ipykernel)",
   "language": "python",
   "name": "python3"
  },
  "language_info": {
   "codemirror_mode": {
    "name": "ipython",
    "version": 3
   },
   "file_extension": ".py",
   "mimetype": "text/x-python",
   "name": "python",
   "nbconvert_exporter": "python",
   "pygments_lexer": "ipython3",
   "version": "3.8.10"
  }
 },
 "nbformat": 4,
 "nbformat_minor": 5
}
